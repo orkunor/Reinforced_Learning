{
 "cells": [
  {
   "cell_type": "markdown",
   "id": "47048f50",
   "metadata": {},
   "source": [
    "# ReinForced Learning (Pekiştirmeli Öğrenme)\n",
    "\n",
    "olay makinanın kendi kendine öğrenmesinden gelmektir \n",
    "\n",
    "ayakta duramayan makinanın ayakta durmayı öğrenmesidir \n",
    "\n",
    "makina yaptığı hatalardan kendini geliştirmesidir \n",
    "\n",
    "hedefe yönelik kendini geliştirmesidir \n",
    "\n",
    "ceza ya da ödeül mantığı ile ilerliyor \n",
    "\n"
   ]
  },
  {
   "cell_type": "markdown",
   "id": "7f7f02d4",
   "metadata": {},
   "source": [
    "TEK KOLLU CANAVAR TEORİSİ VAR \n",
    "\n",
    "A/B TEST VAR YİNE BU TEORİDE İSE REKLAM SEÇİMİ GİBİ DURUMLAR REKLAM KULLANICI TARAFINDAN TIKLANIR MI TIKLANMAZ MI \n",
    "\n",
    "--A/B TEST KULLANICILARIN REKLAMLARA VERDİĞİ İLİŞKİ DURUMLARIDIR . REKLAMLARA GELEN TEPKİLERİ ÖĞRENİYOR BUNA GÖRE REKLAMA KARAR VERİYOR \n",
    "\n",
    "--YİNE ORTAMDAN GELEN TEPKİ VAR ÖDÜL CEZA DURUMU \n",
    "\n",
    "# YAPTIĞIMIZ HER EYLEM İLE İLGİLİ BU SİSTEM KURULABİLİR İLLAKİ ROBOT OLACAK DİYE BİR ŞEY YOK HER YER ORTAMDIR!!! İNTERNET SİTESİ VS BUNA DAHİL \n",
    "\n",
    "\n",
    "\n"
   ]
  },
  {
   "cell_type": "code",
   "execution_count": null,
   "id": "7a21b9dc",
   "metadata": {},
   "outputs": [],
   "source": []
  }
 ],
 "metadata": {
  "kernelspec": {
   "display_name": "Python 3 (ipykernel)",
   "language": "python",
   "name": "python3"
  },
  "language_info": {
   "codemirror_mode": {
    "name": "ipython",
    "version": 3
   },
   "file_extension": ".py",
   "mimetype": "text/x-python",
   "name": "python",
   "nbconvert_exporter": "python",
   "pygments_lexer": "ipython3",
   "version": "3.11.4"
  }
 },
 "nbformat": 4,
 "nbformat_minor": 5
}
