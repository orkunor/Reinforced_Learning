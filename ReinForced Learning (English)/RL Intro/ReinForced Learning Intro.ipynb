{
 "cells": [
  {
   "cell_type": "markdown",
   "id": "919c790e",
   "metadata": {},
   "source": [
    "# ReinForced Learning\n",
    "\n",
    "it comes from the machine learning on its own \n",
    "\n",
    "a machine that cannot stand is learning to stand \n",
    "\n",
    "the machine improves itself from the mistakes it makes \n",
    "\n",
    "goal-oriented self-development \n",
    "\n",
    "is moving forward with a penalty-or-pay mentality \n",
    "\n",
    "THERE IS A ONE-ARMED MONSTER THEORY \n",
    "\n",
    "THERE IS A/B TESTING, AGAIN, IN THIS THEORY, SITUATIONS SUCH AS AD SELECTION, WHETHER THE AD IS CLICKED BY THE USER OR NOT. \n",
    "\n",
    "--A/B TESTING IS THE USER'S RESPONSE TO ADS. LEARNS THE REACTIONS TO ADS AND DECIDES ON THE AD ACCORDINGLY \n",
    "\n",
    "--AGAIN THERE IS A REACTION FROM THE ENVIRONMENT REWARD PUNISHMENT SITUATION \n",
    "\n",
    "# THIS SYSTEM CAN BE INSTALLED FOR EVERY ACTION WE TAKE, THERE IS NO SUCH THING AS A ROBOT, EVERYWHERE IS THE ENVIRONMENT!!! INCLUDING WEBSITE ETC. \n",
    "\n",
    "\n"
   ]
  }
 ],
 "metadata": {
  "kernelspec": {
   "display_name": "Python 3 (ipykernel)",
   "language": "python",
   "name": "python3"
  },
  "language_info": {
   "codemirror_mode": {
    "name": "ipython",
    "version": 3
   },
   "file_extension": ".py",
   "mimetype": "text/x-python",
   "name": "python",
   "nbconvert_exporter": "python",
   "pygments_lexer": "ipython3",
   "version": "3.11.4"
  }
 },
 "nbformat": 4,
 "nbformat_minor": 5
}
